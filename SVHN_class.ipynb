{
 "cells": [
  {
   "cell_type": "code",
   "execution_count": 4,
   "id": "c3e9e563",
   "metadata": {},
   "outputs": [],
   "source": [
    "import numpy as np\n",
    "import torch\n",
    "import torch.nn as nn\n",
    "import torch.optim as optim\n",
    "from torchvision import datasets, transforms\n",
    "from torchvision import transforms, utils\n",
    "from torch.utils.data import Dataset, DataLoader, random_split\n",
    "import torch.nn.functional as F\n",
    "import time\n",
    "import unittest\n",
    "import scipy.io"
   ]
  },
  {
   "cell_type": "code",
   "execution_count": 5,
   "id": "cb2358fc",
   "metadata": {},
   "outputs": [],
   "source": [
    "DEVICE = torch.device(\"cuda\" if torch.cuda.is_available() else \"cpu\")"
   ]
  },
  {
   "cell_type": "markdown",
   "id": "131515ba",
   "metadata": {},
   "source": [
    "# Implementation from scratch"
   ]
  },
  {
   "cell_type": "markdown",
   "id": "ab660dc9",
   "metadata": {},
   "source": [
    "## Definition of aditional functions "
   ]
  },
  {
   "cell_type": "markdown",
   "id": "7f5dc2b5",
   "metadata": {},
   "source": [
    "### Compute mean and std for the dataset "
   ]
  },
  {
   "cell_type": "code",
   "execution_count": 6,
   "id": "0ff3f081",
   "metadata": {},
   "outputs": [],
   "source": [
    "def compute_mean_std(dataset, batch_size=512, num_workers=4, pin_memory=True):\n",
    "    \"\"\"\n",
    "    Compute the per-channel mean and std of an image dataset.\n",
    "\n",
    "    Args:\n",
    "        dataset (torch.utils.data.Dataset):\n",
    "            A PyTorch Dataset whose __getitem__ returns either:\n",
    "              - image Tensor of shape (C, H, W), or\n",
    "              - (image Tensor, label) tuple.\n",
    "            IMPORTANT: dataset.transforms must include only ToTensor()\n",
    "                       (i.e. no Normalize), so images are in [0,1].\n",
    "        batch_size (int): how many images to load per batch.\n",
    "        num_workers (int): DataLoader num_workers for parallel loading.\n",
    "        pin_memory (bool): whether to use pin_memory in DataLoader.\n",
    "\n",
    "    Returns:\n",
    "        mean (torch.Tensor): shape (3,) tensor of channel means.\n",
    "        std  (torch.Tensor): shape (3,) tensor of channel stds.\n",
    "    \"\"\"\n",
    "    loader = DataLoader(\n",
    "        dataset,\n",
    "        batch_size=batch_size,\n",
    "        shuffle=False,\n",
    "        num_workers=num_workers,\n",
    "        pin_memory=pin_memory\n",
    "    )\n",
    "\n",
    "    # We'll accumulate sum(pixel) and sum(pixel^2) over all images:\n",
    "    n_channels = 3\n",
    "    total_pixels = 0  # total number of pixels per channel\n",
    "    sum_   = torch.zeros(n_channels)\n",
    "    sum_sq = torch.zeros(n_channels)\n",
    "\n",
    "    for batch in loader:\n",
    "        # batch may be (images, labels) or just images\n",
    "        images = batch[0] if isinstance(batch, (list, tuple)) else batch\n",
    "        # images: (B, C, H, W)\n",
    "        B, C, H, W = images.shape\n",
    "\n",
    "        # flatten each image to (B, C, H*W)\n",
    "        imgs = images.view(B, C, -1)\n",
    "\n",
    "        # update pixel count\n",
    "        total_pixels += B * H * W\n",
    "\n",
    "        # sum over batch & pixels\n",
    "        sum_   += imgs.sum(dim=[0, 2])\n",
    "        sum_sq += (imgs * imgs).sum(dim=[0, 2])\n",
    "\n",
    "    # mean = E[x]\n",
    "    mean = sum_ / total_pixels\n",
    "\n",
    "    # std = sqrt(E[x^2] - E[x]^2)\n",
    "    std = torch.sqrt(sum_sq / total_pixels - mean**2)\n",
    "\n",
    "    return mean, std"
   ]
  },
  {
   "cell_type": "markdown",
   "id": "d0e28637",
   "metadata": {},
   "source": [
    "## Preprocessing"
   ]
  },
  {
   "cell_type": "markdown",
   "id": "f70022b0",
   "metadata": {},
   "source": [
    "### Computing of mean and std"
   ]
  },
  {
   "cell_type": "code",
   "execution_count": 7,
   "id": "18c81569",
   "metadata": {},
   "outputs": [
    {
     "name": "stderr",
     "output_type": "stream",
     "text": [
      "100%|██████████| 182M/182M [02:31<00:00, 1.20MB/s]  \n"
     ]
    }
   ],
   "source": [
    "raw_transform = transforms.Compose([\n",
    "    transforms.ToTensor()  # scale [0,255] → [0,1], channel-first\n",
    "])\n",
    "## here we force the dataset to be in [0,1] range to compute mean and std\n",
    "raw_train_ds = datasets.SVHN(root='./data', split='train', download=True,\n",
    "                             transform=raw_transform)"
   ]
  },
  {
   "cell_type": "code",
   "execution_count": 8,
   "id": "9780904d",
   "metadata": {},
   "outputs": [],
   "source": [
    "train_size = int(0.8 * len(raw_train_ds))   # e.g., ~58k\n",
    "val_size   = len(raw_train_ds) - train_size # ~15k\n",
    "train_ds, val_ds = random_split(raw_train_ds, [train_size, val_size])"
   ]
  },
  {
   "cell_type": "code",
   "execution_count": 9,
   "id": "1f7c22fa",
   "metadata": {},
   "outputs": [
    {
     "name": "stdout",
     "output_type": "stream",
     "text": [
      "Computed SVHN mean: [0.4376820921897888, 0.4437696635723114, 0.47280436754226685]\n",
      "Computed SVHN std:  [0.1980302929878235, 0.20101578533649445, 0.19703631103038788]\n"
     ]
    }
   ],
   "source": [
    "mean, std = compute_mean_std(raw_train_ds,\n",
    "                             batch_size=512,\n",
    "                             num_workers=4,\n",
    "                             pin_memory=True)\n",
    "print(\"Computed SVHN mean:\", mean.tolist())\n",
    "print(\"Computed SVHN std: \", std.tolist())"
   ]
  },
  {
   "cell_type": "markdown",
   "id": "94356349",
   "metadata": {},
   "source": [
    "### Transforms "
   ]
  },
  {
   "cell_type": "code",
   "execution_count": null,
   "id": "d22ca466",
   "metadata": {},
   "outputs": [],
   "source": [
    "train_transform = transforms.Compose([\n",
    "    # 1. Padding + random crop simulates shifts\n",
    "    transforms.RandomCrop(32, padding=4),\n",
    "    transforms.RandomHorizontalFlip(), # simulate left-right variation\n",
    "    transforms.RandomRotation(10),  \n",
    "    # Color jitter for brightness/contrast/saturation\n",
    "    transforms.ColorJitter(0.2, 0.2, 0.2, 0.1),\n",
    "    transforms.ToTensor(),                          # scale [0,255]→[0,1], and (H,W,C)→(C,H,W)\n",
    "    transforms.Normalize(mean=mean.tolist(), std=std.tolist())\n",
    "])\n",
    "\n",
    "test_transform = transforms.Compose([\n",
    "    transforms.ToTensor(),\n",
    "    transforms.Normalize(mean=mean.tolist(), std=std.tolist())\n",
    "])"
   ]
  },
  {
   "cell_type": "markdown",
   "id": "685b13e7",
   "metadata": {},
   "source": [
    "### Datasets with full transforms "
   ]
  },
  {
   "cell_type": "code",
   "execution_count": 12,
   "id": "f8b908fd",
   "metadata": {},
   "outputs": [
    {
     "name": "stderr",
     "output_type": "stream",
     "text": [
      "100%|██████████| 64.3M/64.3M [00:38<00:00, 1.66MB/s]\n"
     ]
    }
   ],
   "source": [
    "train_ds.dataset.transform = train_transform\n",
    "val_ds.dataset.transform = test_transform\n",
    "test_ds  = datasets.SVHN(root='./data', split='test',  download=True,\n",
    "                        transform=test_transform)"
   ]
  },
  {
   "cell_type": "markdown",
   "id": "9a6c1d42",
   "metadata": {},
   "source": [
    "### Dataloaders"
   ]
  },
  {
   "cell_type": "code",
   "execution_count": 13,
   "id": "a5378388",
   "metadata": {},
   "outputs": [],
   "source": [
    "batch_size = 128\n",
    "num_workers = 4   # use multiple CPU cores\n",
    "pin_memory  = True  # faster GPU transfers\n",
    "\n",
    "train_loader = DataLoader(train_ds,\n",
    "                          batch_size=batch_size,\n",
    "                          shuffle=True,\n",
    "                          num_workers=num_workers,\n",
    "                          pin_memory=pin_memory)\n",
    "\n",
    "val_loader   = DataLoader(val_ds,\n",
    "                          batch_size=batch_size, \n",
    "                          shuffle=False, \n",
    "                          num_workers=num_workers, \n",
    "                          pin_memory=pin_memory)\n",
    "\n",
    "test_loader = DataLoader(test_ds,\n",
    "                        batch_size=batch_size,\n",
    "                        shuffle=False,\n",
    "                        num_workers=num_workers,\n",
    "                        pin_memory=pin_memory)\n"
   ]
  },
  {
   "cell_type": "markdown",
   "id": "4a8a256d",
   "metadata": {},
   "source": [
    "### Cnn architecture from scratch "
   ]
  },
  {
   "cell_type": "code",
   "execution_count": 25,
   "id": "3881018f",
   "metadata": {},
   "outputs": [],
   "source": [
    "class ScratchCNN(nn.Module):\n",
    "    def __init__(self):\n",
    "        super(ScratchCNN, self).__init__()\n",
    "        # Block 1: Conv → ReLU → Conv → ReLU → Pool → BatchNorm\n",
    "        self.block1 = nn.Sequential(\n",
    "            nn.Conv2d(3, 32, kernel_size=3, stride=1, padding=1),\n",
    "            nn.ReLU(inplace=True),\n",
    "            nn.BatchNorm2d(32),\n",
    "            nn.Conv2d(32, 32, kernel_size=3, stride=1, padding=1),\n",
    "            nn.ReLU(inplace=True),\n",
    "            nn.BatchNorm2d(32),\n",
    "            nn.Dropout2d(0.1),\n",
    "            nn.MaxPool2d(kernel_size=2),\n",
    "            \n",
    "        )\n",
    "        # Block 2: deeper features\n",
    "        self.block2 = nn.Sequential(\n",
    "            nn.Conv2d(32, 64, kernel_size=3, stride=1, padding=1),\n",
    "            nn.ReLU(inplace=True),\n",
    "            nn.BatchNorm2d(64),\n",
    "            nn.Conv2d(64, 64, kernel_size=3, stride=1, padding=1),\n",
    "            nn.ReLU(inplace=True),\n",
    "            nn.BatchNorm2d(64),\n",
    "            nn.Dropout2d(0.1),\n",
    "            nn.MaxPool2d(kernel_size=2),\n",
    "        )\n",
    "        # Block 3 (added capacity)\n",
    "        self.block3 = nn.Sequential(\n",
    "            nn.Conv2d(64, 128, 3, padding=1),\n",
    "            nn.ReLU(inplace=True),\n",
    "            nn.BatchNorm2d(128),\n",
    "            nn.Conv2d(128, 128, 3, padding=1),\n",
    "            nn.ReLU(inplace=True),\n",
    "            nn.BatchNorm2d(128),\n",
    "            nn.Dropout2d(0.1),\n",
    "            nn.MaxPool2d(2)\n",
    "        )\n",
    "        # Global average pool → tiny head\n",
    "        self.global_pool = nn.AdaptiveAvgPool2d(1)  # (B,128,1,1)\n",
    "        self.classifier = nn.Sequential(\n",
    "            nn.Flatten(),            # (B,128)\n",
    "            nn.Linear(128, 64),\n",
    "            nn.ReLU(inplace=True),\n",
    "            nn.Dropout(0.5),\n",
    "            nn.Linear(64, 10)\n",
    "        )\n",
    "    \n",
    "    def forward(self, x):\n",
    "        # Block 1\n",
    "        x = self.block1(x) # 32×32 → 16×16\n",
    "        # Block 2\n",
    "        x = self.block2(x) # 16×16 → 8×8\n",
    "        # Block 3\n",
    "        x = self.block3(x)    # 8×8 → 4×4\n",
    "        x = self.global_pool(x)\n",
    "        x = self.classifier(x)\n",
    "        return x"
   ]
  },
  {
   "cell_type": "markdown",
   "id": "43d0dfbc",
   "metadata": {},
   "source": [
    "### Loss & optimizer "
   ]
  },
  {
   "cell_type": "code",
   "execution_count": 26,
   "id": "f711ed45",
   "metadata": {},
   "outputs": [],
   "source": [
    "model  = ScratchCNN().to(DEVICE)\n",
    "\n",
    "criterion = nn.CrossEntropyLoss(label_smoothing=0.1)  \n",
    "optimizer = optim.Adam(    \n",
    "                       model.parameters(),\n",
    "    lr=1e-3,\n",
    "    weight_decay=1e-4     # <— adds L2 regularization\n",
    "    )"
   ]
  },
  {
   "cell_type": "markdown",
   "id": "ef10c287",
   "metadata": {},
   "source": [
    "### Training and test loops"
   ]
  },
  {
   "cell_type": "code",
   "execution_count": 27,
   "id": "dfe6d49b",
   "metadata": {},
   "outputs": [],
   "source": [
    "def train_one_epoch(model, loader, optimizer, criterion, device):\n",
    "    model.train()\n",
    "    running_loss = 0\n",
    "    correct = 0\n",
    "    total = 0\n",
    "\n",
    "    for imgs, labels in loader:\n",
    "        imgs, labels = imgs.to(device), labels.to(device)\n",
    "        optimizer.zero_grad()\n",
    "\n",
    "        outputs = model(imgs)              \n",
    "        loss = criterion(outputs, labels)\n",
    "        loss.backward()                   \n",
    "        optimizer.step()                 \n",
    "\n",
    "        running_loss += loss.item() * imgs.size(0)\n",
    "        preds = outputs.argmax(dim=1)\n",
    "        correct += (preds == labels).sum().item()\n",
    "        total   += labels.size(0)\n",
    "\n",
    "    epoch_loss = running_loss / total\n",
    "    epoch_acc  = correct / total\n",
    "    return epoch_loss, epoch_acc"
   ]
  },
  {
   "cell_type": "code",
   "execution_count": 28,
   "id": "ebc601f7",
   "metadata": {},
   "outputs": [],
   "source": [
    "def validate(model, loader, criterion, device):\n",
    "    model.eval()\n",
    "    running_loss = 0\n",
    "    correct = 0\n",
    "    total = 0\n",
    "    with torch.no_grad():\n",
    "        for imgs, labels in loader:\n",
    "            imgs, labels = imgs.to(device), labels.to(device)\n",
    "            outputs = model(imgs)\n",
    "            loss = criterion(outputs, labels)\n",
    "\n",
    "            running_loss += loss.item() * imgs.size(0)\n",
    "            preds = outputs.argmax(dim=1)\n",
    "            correct += (preds == labels).sum().item()\n",
    "            total   += labels.size(0)\n",
    "\n",
    "    return running_loss / total, correct / total"
   ]
  },
  {
   "cell_type": "code",
   "execution_count": 29,
   "id": "7023e045",
   "metadata": {},
   "outputs": [
    {
     "name": "stdout",
     "output_type": "stream",
     "text": [
      "Epoch 01  Train: loss=1.5210, acc=0.5683  Val:   loss=0.8347, acc=0.8893  time=7.8s\n",
      "Epoch 02  Train: loss=0.8823, acc=0.8866  Val:   loss=0.7312, acc=0.9244  time=6.5s\n",
      "Epoch 03  Train: loss=0.7979, acc=0.9177  Val:   loss=0.6965, acc=0.9331  time=6.4s\n",
      "Epoch 04  Train: loss=0.7647, acc=0.9301  Val:   loss=0.6816, acc=0.9372  time=9.3s\n",
      "Epoch 05  Train: loss=0.7387, acc=0.9384  Val:   loss=0.6679, acc=0.9429  time=6.5s\n",
      "Epoch 06  Train: loss=0.7227, acc=0.9438  Val:   loss=0.6735, acc=0.9412  time=5.9s\n",
      "Epoch 07  Train: loss=0.7114, acc=0.9489  Val:   loss=0.6583, acc=0.9453  time=6.5s\n",
      "Epoch 08  Train: loss=0.7013, acc=0.9525  Val:   loss=0.6592, acc=0.9454  time=6.3s\n",
      "Epoch 09  Train: loss=0.6916, acc=0.9560  Val:   loss=0.6587, acc=0.9451  time=8.6s\n",
      "Epoch 10  Train: loss=0.6838, acc=0.9587  Val:   loss=0.6581, acc=0.9438  time=6.0s\n",
      "Epoch 11  Train: loss=0.6776, acc=0.9611  Val:   loss=0.6549, acc=0.9449  time=5.8s\n",
      "Epoch 12  Train: loss=0.6739, acc=0.9626  Val:   loss=0.6567, acc=0.9459  time=5.9s\n",
      "Epoch 13  Train: loss=0.6672, acc=0.9655  Val:   loss=0.6562, acc=0.9452  time=6.0s\n",
      "Epoch 14  Train: loss=0.6636, acc=0.9668  Val:   loss=0.6538, acc=0.9466  time=6.1s\n",
      "Epoch 15  Train: loss=0.6589, acc=0.9679  Val:   loss=0.6539, acc=0.9457  time=8.5s\n",
      "Epoch 16  Train: loss=0.6540, acc=0.9702  Val:   loss=0.6521, acc=0.9487  time=6.2s\n",
      "Epoch 17  Train: loss=0.6556, acc=0.9694  Val:   loss=0.6558, acc=0.9453  time=5.8s\n",
      "Epoch 18  Train: loss=0.6509, acc=0.9717  Val:   loss=0.6520, acc=0.9480  time=5.7s\n",
      "Epoch 19  Train: loss=0.6461, acc=0.9735  Val:   loss=0.6554, acc=0.9460  time=6.1s\n",
      "Epoch 20  Train: loss=0.6467, acc=0.9731  Val:   loss=0.6579, acc=0.9470  time=8.6s\n"
     ]
    }
   ],
   "source": [
    "num_epochs = 20\n",
    "best_val_acc = 0.0\n",
    "\n",
    "for epoch in range(1, num_epochs+1):\n",
    "    start = time.time()\n",
    "    train_loss, train_acc = train_one_epoch(model, train_loader, optimizer, criterion, DEVICE)\n",
    "    val_loss,   val_acc   = validate(model,   val_loader,   criterion, DEVICE)\n",
    "    elapsed = time.time() - start\n",
    "\n",
    "    if val_acc > best_val_acc:\n",
    "        best_val_acc = val_acc\n",
    "        torch.save(model.state_dict(), 'best_scratch_cnn.pth')\n",
    "\n",
    "    print(f\"Epoch {epoch:02d}  \"\n",
    "          f\"Train: loss={train_loss:.4f}, acc={train_acc:.4f}  \"\n",
    "          f\"Val:   loss={val_loss:.4f}, acc={val_acc:.4f}  \"\n",
    "          f\"time={elapsed:.1f}s\")\n"
   ]
  },
  {
   "cell_type": "code",
   "execution_count": 30,
   "id": "10294f58",
   "metadata": {},
   "outputs": [
    {
     "name": "stdout",
     "output_type": "stream",
     "text": [
      "Test accuracy: 0.9563 Test loss: 0.6344\n"
     ]
    }
   ],
   "source": [
    "# Load best weights\n",
    "model.load_state_dict(torch.load('best_scratch_cnn.pth'))\n",
    "test_loss, test_acc = validate(model, test_loader, criterion, DEVICE)\n",
    "print(f\"Test accuracy: {test_acc:.4f} \"\n",
    "      f\"Test loss: {test_loss:.4f}\")\n"
   ]
  },
  {
   "cell_type": "markdown",
   "id": "2615ff2b",
   "metadata": {},
   "source": [
    "### more metrics"
   ]
  },
  {
   "cell_type": "code",
   "execution_count": 31,
   "id": "5419ad04",
   "metadata": {},
   "outputs": [
    {
     "data": {
      "text/plain": [
       "<Axes: >"
      ]
     },
     "execution_count": 31,
     "metadata": {},
     "output_type": "execute_result"
    },
    {
     "data": {
      "image/png": "[encoded data removed]",
      "text/plain": [
       "<Figure size 640x480 with 2 Axes>"
      ]
     },
     "metadata": {},
     "output_type": "display_data"
    }
   ],
   "source": [
    "from sklearn.metrics import confusion_matrix\n",
    "import seaborn as sns\n",
    "\n",
    "all_preds = []\n",
    "all_labels = []\n",
    "model.eval()\n",
    "with torch.no_grad():\n",
    "    for imgs, labels in test_loader:\n",
    "        imgs = imgs.to(DEVICE)\n",
    "        preds = model(imgs).argmax(dim=1).cpu().numpy()\n",
    "        all_preds.extend(preds)\n",
    "        all_labels.extend(labels.numpy())\n",
    "\n",
    "cm = confusion_matrix(all_labels, all_preds)\n",
    "sns.heatmap(cm, annot=True, fmt=\"d\")\n"
   ]
  },
  {
   "cell_type": "markdown",
   "id": "e0285553",
   "metadata": {},
   "source": [
    "# Implementation with Pre-trained model"
   ]
  },
  {
   "cell_type": "code",
   "execution_count": null,
   "id": "54905fb6",
   "metadata": {},
   "outputs": [],
   "source": []
  }
 ],
 "metadata": {
  "kernelspec": {
   "display_name": "deepLearningvenv",
   "language": "python",
   "name": "python3"
  },
  "language_info": {
   "codemirror_mode": {
    "name": "ipython",
    "version": 3
   },
   "file_extension": ".py",
   "mimetype": "text/x-python",
   "name": "python",
   "nbconvert_exporter": "python",
   "pygments_lexer": "ipython3",
   "version": "3.12.3"
  }
 },
 "nbformat": 4,
 "nbformat_minor": 5
}
