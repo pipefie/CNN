{
 "cells": [
  {
   "cell_type": "code",
   "execution_count": 56,
   "id": "c3e9e563",
   "metadata": {},
   "outputs": [],
   "source": [
    "import numpy as np\n",
    "import torch\n",
    "import torch.nn as nn\n",
    "import torch.optim as optim\n",
    "from torchvision import datasets, transforms, models\n",
    "from torchvision import transforms, utils\n",
    "from torch.utils.data import Dataset, DataLoader, random_split\n",
    "import torch.nn.functional as F\n",
    "import time\n",
    "import unittest\n",
    "import scipy.io"
   ]
  },
  {
   "cell_type": "code",
   "execution_count": 57,
   "id": "cb2358fc",
   "metadata": {},
   "outputs": [],
   "source": [
    "DEVICE = torch.device(\"cuda\" if torch.cuda.is_available() else \"cpu\")"
   ]
  },
  {
   "cell_type": "markdown",
   "id": "131515ba",
   "metadata": {},
   "source": [
    "# Implementation from scratch"
   ]
  },
  {
   "cell_type": "markdown",
   "id": "ab660dc9",
   "metadata": {},
   "source": [
    "## Definition of aditional functions "
   ]
  },
  {
   "cell_type": "markdown",
   "id": "7f5dc2b5",
   "metadata": {},
   "source": [
    "### Compute mean and std for the dataset "
   ]
  },
  {
   "cell_type": "code",
   "execution_count": 58,
   "id": "0ff3f081",
   "metadata": {},
   "outputs": [],
   "source": [
    "def compute_mean_std(dataset, batch_size=512, num_workers=4, pin_memory=True):\n",
    "    \"\"\"\n",
    "    Compute the per-channel mean and std of an image dataset.\n",
    "\n",
    "    Args:\n",
    "        dataset (torch.utils.data.Dataset):\n",
    "            A PyTorch Dataset whose __getitem__ returns either:\n",
    "              - image Tensor of shape (C, H, W), or\n",
    "              - (image Tensor, label) tuple.\n",
    "            IMPORTANT: dataset.transforms must include only ToTensor()\n",
    "                       (i.e. no Normalize), so images are in [0,1].\n",
    "        batch_size (int): how many images to load per batch.\n",
    "        num_workers (int): DataLoader num_workers for parallel loading.\n",
    "        pin_memory (bool): whether to use pin_memory in DataLoader.\n",
    "\n",
    "    Returns:\n",
    "        mean (torch.Tensor): shape (3,) tensor of channel means.\n",
    "        std  (torch.Tensor): shape (3,) tensor of channel stds.\n",
    "    \"\"\"\n",
    "    loader = DataLoader(\n",
    "        dataset,\n",
    "        batch_size=batch_size,\n",
    "        shuffle=False,\n",
    "        num_workers=num_workers,\n",
    "        pin_memory=pin_memory\n",
    "    )\n",
    "\n",
    "    # We'll accumulate sum(pixel) and sum(pixel^2) over all images:\n",
    "    n_channels = 3\n",
    "    total_pixels = 0  # total number of pixels per channel\n",
    "    sum_   = torch.zeros(n_channels)\n",
    "    sum_sq = torch.zeros(n_channels)\n",
    "\n",
    "    for batch in loader:\n",
    "        # batch may be (images, labels) or just images\n",
    "        images = batch[0] if isinstance(batch, (list, tuple)) else batch\n",
    "        # images: (B, C, H, W)\n",
    "        B, C, H, W = images.shape\n",
    "\n",
    "        # flatten each image to (B, C, H*W)\n",
    "        imgs = images.view(B, C, -1)\n",
    "\n",
    "        # update pixel count\n",
    "        total_pixels += B * H * W\n",
    "\n",
    "        # sum over batch & pixels\n",
    "        sum_   += imgs.sum(dim=[0, 2])\n",
    "        sum_sq += (imgs * imgs).sum(dim=[0, 2])\n",
    "\n",
    "    # mean = E[x]\n",
    "    mean = sum_ / total_pixels\n",
    "\n",
    "    # std = sqrt(E[x^2] - E[x]^2)\n",
    "    std = torch.sqrt(sum_sq / total_pixels - mean**2)\n",
    "\n",
    "    return mean, std"
   ]
  },
  {
   "cell_type": "code",
   "execution_count": 59,
   "id": "13d1f1fa",
   "metadata": {},
   "outputs": [],
   "source": [
    "def svhn_label_transform(y):\n",
    "    # maps MATLAB’s 10 → 0, and leaves 1–9 unchanged\n",
    "    return y % 10"
   ]
  },
  {
   "cell_type": "markdown",
   "id": "d0e28637",
   "metadata": {},
   "source": [
    "## Preprocessing"
   ]
  },
  {
   "cell_type": "markdown",
   "id": "f70022b0",
   "metadata": {},
   "source": [
    "### Computing of mean and std"
   ]
  },
  {
   "cell_type": "code",
   "execution_count": 60,
   "id": "18c81569",
   "metadata": {},
   "outputs": [],
   "source": [
    "raw_transform = transforms.Compose([\n",
    "    transforms.ToTensor()  # scale [0,255] → [0,1], channel-first\n",
    "])\n",
    "## here we force the dataset to be in [0,1] range to compute mean and std\n",
    "raw_train_ds = datasets.SVHN(root='./data', split='train', download=True,\n",
    "                             transform=raw_transform, target_transform=svhn_label_transform)"
   ]
  },
  {
   "cell_type": "code",
   "execution_count": 61,
   "id": "9780904d",
   "metadata": {},
   "outputs": [],
   "source": [
    "train_size = int(0.8 * len(raw_train_ds))   # e.g., ~58k\n",
    "val_size   = len(raw_train_ds) - train_size # ~15k\n",
    "train_ds, val_ds = random_split(raw_train_ds, [train_size, val_size])"
   ]
  },
  {
   "cell_type": "code",
   "execution_count": 62,
   "id": "1f7c22fa",
   "metadata": {},
   "outputs": [
    {
     "name": "stdout",
     "output_type": "stream",
     "text": [
      "Computed SVHN mean: [0.4376820921897888, 0.4437696635723114, 0.47280436754226685]\n",
      "Computed SVHN std:  [0.1980302929878235, 0.20101578533649445, 0.19703631103038788]\n"
     ]
    }
   ],
   "source": [
    "mean, std = compute_mean_std(raw_train_ds,\n",
    "                             batch_size=512,\n",
    "                             num_workers=4,\n",
    "                             pin_memory=True)\n",
    "print(\"Computed SVHN mean:\", mean.tolist())\n",
    "print(\"Computed SVHN std: \", std.tolist())"
   ]
  },
  {
   "cell_type": "markdown",
   "id": "94356349",
   "metadata": {},
   "source": [
    "### Transforms "
   ]
  },
  {
   "cell_type": "code",
   "execution_count": 63,
   "id": "d22ca466",
   "metadata": {},
   "outputs": [],
   "source": [
    "train_transform = transforms.Compose([\n",
    "    #Padding + random crop simulates shifts\n",
    "    transforms.RandomCrop(32, padding=4),\n",
    "    transforms.RandomHorizontalFlip(), # simulate left-right variation\n",
    "    transforms.RandomRotation(10),  \n",
    "    # Color jitter for brightness/contrast/saturation\n",
    "    transforms.ColorJitter(0.2, 0.2, 0.2, 0.1),\n",
    "    transforms.ToTensor(),                          # scale [0,255]→[0,1], and (H,W,C)→(C,H,W)\n",
    "    transforms.Normalize(mean=mean.tolist(), std=std.tolist())\n",
    "])\n",
    "\n",
    "test_transform = transforms.Compose([\n",
    "    transforms.ToTensor(),\n",
    "    transforms.Normalize(mean=mean.tolist(), std=std.tolist())\n",
    "])"
   ]
  },
  {
   "cell_type": "markdown",
   "id": "685b13e7",
   "metadata": {},
   "source": [
    "### Datasets with full transforms "
   ]
  },
  {
   "cell_type": "code",
   "execution_count": 64,
   "id": "f8b908fd",
   "metadata": {},
   "outputs": [],
   "source": [
    "train_ds.dataset.transform = train_transform\n",
    "val_ds.dataset.transform = test_transform\n",
    "test_ds  = datasets.SVHN(root='./data', split='test',  download=True,\n",
    "                        transform=test_transform, target_transform=svhn_label_transform)"
   ]
  },
  {
   "cell_type": "markdown",
   "id": "9a6c1d42",
   "metadata": {},
   "source": [
    "### Dataloaders"
   ]
  },
  {
   "cell_type": "code",
   "execution_count": 65,
   "id": "a5378388",
   "metadata": {},
   "outputs": [],
   "source": [
    "batch_size = 128\n",
    "num_workers = 4   # use multiple CPU cores\n",
    "pin_memory  = True  # faster GPU transfers\n",
    "\n",
    "train_loader = DataLoader(train_ds,\n",
    "                          batch_size=batch_size,\n",
    "                          shuffle=True,\n",
    "                          num_workers=num_workers,\n",
    "                          pin_memory=pin_memory)\n",
    "\n",
    "val_loader   = DataLoader(val_ds,\n",
    "                          batch_size=batch_size, \n",
    "                          shuffle=False, \n",
    "                          num_workers=num_workers, \n",
    "                          pin_memory=pin_memory)\n",
    "\n",
    "test_loader = DataLoader(test_ds,\n",
    "                        batch_size=batch_size,\n",
    "                        shuffle=False,\n",
    "                        num_workers=num_workers,\n",
    "                        pin_memory=pin_memory)\n"
   ]
  },
  {
   "cell_type": "markdown",
   "id": "4a8a256d",
   "metadata": {},
   "source": [
    "### Cnn architecture from scratch "
   ]
  },
  {
   "cell_type": "code",
   "execution_count": 66,
   "id": "3881018f",
   "metadata": {},
   "outputs": [],
   "source": [
    "class ScratchCNN(nn.Module):\n",
    "    def __init__(self):\n",
    "        super(ScratchCNN, self).__init__()\n",
    "        # Block 1: Conv → ReLU → Conv → ReLU → Pool → BatchNorm\n",
    "        self.block1 = nn.Sequential(\n",
    "            nn.Conv2d(3, 32, kernel_size=3, stride=1, padding=1),\n",
    "            nn.ReLU(inplace=True),\n",
    "            nn.BatchNorm2d(32),\n",
    "            nn.Conv2d(32, 32, kernel_size=3, stride=1, padding=1),\n",
    "            nn.ReLU(inplace=True),\n",
    "            nn.BatchNorm2d(32),\n",
    "            nn.Dropout2d(0.1),\n",
    "            nn.MaxPool2d(kernel_size=2),\n",
    "            \n",
    "        )\n",
    "        # Block 2: deeper features\n",
    "        self.block2 = nn.Sequential(\n",
    "            nn.Conv2d(32, 64, kernel_size=3, stride=1, padding=1),\n",
    "            nn.ReLU(inplace=True),\n",
    "            nn.BatchNorm2d(64),\n",
    "            nn.Conv2d(64, 64, kernel_size=3, stride=1, padding=1),\n",
    "            nn.ReLU(inplace=True),\n",
    "            nn.BatchNorm2d(64),\n",
    "            nn.Dropout2d(0.1),\n",
    "            nn.MaxPool2d(kernel_size=2),\n",
    "        )\n",
    "        # Block 3 (added capacity)\n",
    "        self.block3 = nn.Sequential(\n",
    "            nn.Conv2d(64, 128, 3, padding=1),\n",
    "            nn.ReLU(inplace=True),\n",
    "            nn.BatchNorm2d(128),\n",
    "            nn.Conv2d(128, 128, 3, padding=1),\n",
    "            nn.ReLU(inplace=True),\n",
    "            nn.BatchNorm2d(128),\n",
    "            nn.Dropout2d(0.1),\n",
    "            nn.MaxPool2d(2)\n",
    "        )\n",
    "        # Global average pool → tiny head\n",
    "        self.global_pool = nn.AdaptiveAvgPool2d(1)  # (B,128,1,1)\n",
    "        self.classifier = nn.Sequential(\n",
    "            nn.Flatten(),            # (B,128)\n",
    "            nn.Linear(128, 64),\n",
    "            nn.ReLU(inplace=True),\n",
    "            nn.Dropout(0.5),\n",
    "            nn.Linear(64, 10)\n",
    "        )\n",
    "    \n",
    "    def forward(self, x):\n",
    "        # Block 1\n",
    "        x = self.block1(x) # 32×32 → 16×16\n",
    "        # Block 2\n",
    "        x = self.block2(x) # 16×16 → 8×8\n",
    "        # Block 3\n",
    "        x = self.block3(x)    # 8×8 → 4×4\n",
    "        x = self.global_pool(x)\n",
    "        x = self.classifier(x)\n",
    "        return x"
   ]
  },
  {
   "cell_type": "code",
   "execution_count": 67,
   "id": "978764f4",
   "metadata": {},
   "outputs": [],
   "source": [
    "model  = ScratchCNN().to(DEVICE)"
   ]
  },
  {
   "cell_type": "markdown",
   "id": "43d0dfbc",
   "metadata": {},
   "source": [
    "### Loss & optimizer "
   ]
  },
  {
   "cell_type": "code",
   "execution_count": 68,
   "id": "f711ed45",
   "metadata": {},
   "outputs": [],
   "source": [
    "criterion = nn.CrossEntropyLoss(label_smoothing=0.1)  \n",
    "optimizer = optim.Adam(    \n",
    "    model.parameters(),\n",
    "    lr=1e-3,\n",
    "    weight_decay=1e-4     # <— adds L2 regularization\n",
    ")"
   ]
  },
  {
   "cell_type": "markdown",
   "id": "ef10c287",
   "metadata": {},
   "source": [
    "### Training and test loops"
   ]
  },
  {
   "cell_type": "code",
   "execution_count": 69,
   "id": "dfe6d49b",
   "metadata": {},
   "outputs": [],
   "source": [
    "def train_one_epoch(model, loader, optimizer, criterion, device):\n",
    "    model.train()\n",
    "    running_loss = 0\n",
    "    correct = 0\n",
    "    total = 0\n",
    "\n",
    "    for imgs, labels in loader:\n",
    "        imgs, labels = imgs.to(device), labels.to(device)\n",
    "        optimizer.zero_grad()\n",
    "\n",
    "        outputs = model(imgs)              \n",
    "        loss = criterion(outputs, labels)\n",
    "        loss.backward()                   \n",
    "        optimizer.step()                 \n",
    "\n",
    "        running_loss += loss.item() * imgs.size(0)\n",
    "        preds = outputs.argmax(dim=1)\n",
    "        correct += (preds == labels).sum().item()\n",
    "        total   += labels.size(0)\n",
    "\n",
    "    epoch_loss = running_loss / total\n",
    "    epoch_acc  = correct / total\n",
    "    return epoch_loss, epoch_acc"
   ]
  },
  {
   "cell_type": "code",
   "execution_count": 70,
   "id": "ebc601f7",
   "metadata": {},
   "outputs": [],
   "source": [
    "def validate(model, loader, criterion, device):\n",
    "    model.eval()\n",
    "    running_loss = 0\n",
    "    correct = 0\n",
    "    total = 0\n",
    "    with torch.no_grad():\n",
    "        for imgs, labels in loader:\n",
    "            imgs, labels = imgs.to(device), labels.to(device)\n",
    "            outputs = model(imgs)\n",
    "            loss = criterion(outputs, labels)\n",
    "\n",
    "            running_loss += loss.item() * imgs.size(0)\n",
    "            preds = outputs.argmax(dim=1)\n",
    "            correct += (preds == labels).sum().item()\n",
    "            total   += labels.size(0)\n",
    "\n",
    "    return running_loss / total, correct / total"
   ]
  },
  {
   "cell_type": "code",
   "execution_count": 71,
   "id": "7023e045",
   "metadata": {},
   "outputs": [
    {
     "name": "stdout",
     "output_type": "stream",
     "text": [
      "Epoch 01  Train: loss=1.5836, acc=0.5363  Val:   loss=0.8723, acc=0.8747  time=8.3s\n",
      "Epoch 02  Train: loss=0.8917, acc=0.8834  Val:   loss=0.7429, acc=0.9216  time=5.8s\n",
      "Epoch 03  Train: loss=0.8032, acc=0.9177  Val:   loss=0.7070, acc=0.9328  time=7.1s\n",
      "Epoch 04  Train: loss=0.7684, acc=0.9287  Val:   loss=0.6914, acc=0.9364  time=7.1s\n",
      "Epoch 05  Train: loss=0.7422, acc=0.9394  Val:   loss=0.6813, acc=0.9390  time=7.4s\n",
      "Epoch 06  Train: loss=0.7261, acc=0.9444  Val:   loss=0.6776, acc=0.9397  time=7.9s\n",
      "Epoch 07  Train: loss=0.7120, acc=0.9493  Val:   loss=0.6647, acc=0.9443  time=5.6s\n",
      "Epoch 08  Train: loss=0.7024, acc=0.9531  Val:   loss=0.6706, acc=0.9422  time=7.0s\n",
      "Epoch 09  Train: loss=0.6920, acc=0.9567  Val:   loss=0.6641, acc=0.9450  time=6.8s\n",
      "Epoch 10  Train: loss=0.6874, acc=0.9586  Val:   loss=0.6752, acc=0.9421  time=7.0s\n",
      "Epoch 11  Train: loss=0.6797, acc=0.9612  Val:   loss=0.6634, acc=0.9438  time=5.4s\n",
      "Epoch 12  Train: loss=0.6709, acc=0.9648  Val:   loss=0.6581, acc=0.9469  time=6.9s\n",
      "Epoch 13  Train: loss=0.6646, acc=0.9668  Val:   loss=0.6570, acc=0.9452  time=7.1s\n",
      "Epoch 14  Train: loss=0.6646, acc=0.9667  Val:   loss=0.6620, acc=0.9456  time=7.0s\n",
      "Epoch 15  Train: loss=0.6590, acc=0.9684  Val:   loss=0.6607, acc=0.9451  time=7.0s\n",
      "Epoch 16  Train: loss=0.6561, acc=0.9695  Val:   loss=0.6628, acc=0.9443  time=5.1s\n",
      "Epoch 17  Train: loss=0.6529, acc=0.9712  Val:   loss=0.6587, acc=0.9470  time=7.1s\n",
      "Epoch 18  Train: loss=0.6490, acc=0.9736  Val:   loss=0.6601, acc=0.9460  time=7.2s\n",
      "Epoch 19  Train: loss=0.6472, acc=0.9727  Val:   loss=0.6600, acc=0.9464  time=7.1s\n",
      "Epoch 20  Train: loss=0.6441, acc=0.9740  Val:   loss=0.6602, acc=0.9459  time=5.1s\n"
     ]
    }
   ],
   "source": [
    "num_epochs = 20\n",
    "best_val_acc = 0.0\n",
    "\n",
    "for epoch in range(1, num_epochs+1):\n",
    "    start = time.time()\n",
    "    train_loss, train_acc = train_one_epoch(model, train_loader, optimizer, criterion, DEVICE)\n",
    "    val_loss,   val_acc   = validate(model,   val_loader,   criterion, DEVICE)\n",
    "    elapsed = time.time() - start\n",
    "\n",
    "    if val_acc > best_val_acc:\n",
    "        best_val_acc = val_acc\n",
    "        torch.save(model.state_dict(), 'best_scratch_cnn.pth')\n",
    "\n",
    "    print(f\"Epoch {epoch:02d}  \"\n",
    "          f\"Train: loss={train_loss:.4f}, acc={train_acc:.4f}  \"\n",
    "          f\"Val:   loss={val_loss:.4f}, acc={val_acc:.4f}  \"\n",
    "          f\"time={elapsed:.1f}s\")\n"
   ]
  },
  {
   "cell_type": "code",
   "execution_count": 72,
   "id": "10294f58",
   "metadata": {},
   "outputs": [
    {
     "name": "stdout",
     "output_type": "stream",
     "text": [
      "Test accuracy: 0.9541 Test loss: 0.6370\n"
     ]
    }
   ],
   "source": [
    "# Load best weights\n",
    "model.load_state_dict(torch.load('best_scratch_cnn.pth'))\n",
    "test_loss, test_acc = validate(model, test_loader, criterion, DEVICE)\n",
    "print(f\"Test accuracy: {test_acc:.4f} \"\n",
    "      f\"Test loss: {test_loss:.4f}\")\n"
   ]
  },
  {
   "cell_type": "markdown",
   "id": "2615ff2b",
   "metadata": {},
   "source": [
    "### more metrics"
   ]
  },
  {
   "cell_type": "code",
   "execution_count": 73,
   "id": "5419ad04",
   "metadata": {},
   "outputs": [
    {
     "data": {
      "text/plain": [
       "<Axes: >"
      ]
     },
     "execution_count": 73,
     "metadata": {},
     "output_type": "execute_result"
    },
    {
     "data": {
      "image/png": "[encoded data removed]",
      "text/plain": [
       "<Figure size 640x480 with 2 Axes>"
      ]
     },
     "metadata": {},
     "output_type": "display_data"
    }
   ],
   "source": [
    "from sklearn.metrics import confusion_matrix\n",
    "import seaborn as sns\n",
    "\n",
    "all_preds = []\n",
    "all_labels = []\n",
    "model.eval()\n",
    "with torch.no_grad():\n",
    "    for imgs, labels in test_loader:\n",
    "        imgs = imgs.to(DEVICE)\n",
    "        preds = model(imgs).argmax(dim=1).cpu().numpy()\n",
    "        all_preds.extend(preds)\n",
    "        all_labels.extend(labels.numpy())\n",
    "\n",
    "cm = confusion_matrix(all_labels, all_preds)\n",
    "sns.heatmap(cm, annot=True, fmt=\"d\")\n"
   ]
  },
  {
   "cell_type": "markdown",
   "id": "e0285553",
   "metadata": {},
   "source": [
    "# Implementation with Pre-trained model"
   ]
  },
  {
   "cell_type": "markdown",
   "id": "bdbecfcc",
   "metadata": {},
   "source": [
    "### Model VGG16"
   ]
  },
  {
   "cell_type": "code",
   "execution_count": 74,
   "id": "54905fb6",
   "metadata": {},
   "outputs": [
    {
     "name": "stderr",
     "output_type": "stream",
     "text": [
      "/home/pipe/venv/deepLearningvenv/lib/python3.12/site-packages/torchvision/models/_utils.py:208: UserWarning: The parameter 'pretrained' is deprecated since 0.13 and may be removed in the future, please use 'weights' instead.\n",
      "  warnings.warn(\n",
      "/home/pipe/venv/deepLearningvenv/lib/python3.12/site-packages/torchvision/models/_utils.py:223: UserWarning: Arguments other than a weight enum or `None` for 'weights' are deprecated since 0.13 and may be removed in the future. The current behavior is equivalent to passing `weights=VGG16_BN_Weights.IMAGENET1K_V1`. You can also use `weights=VGG16_BN_Weights.DEFAULT` to get the most up-to-date weights.\n",
      "  warnings.warn(msg)\n"
     ]
    }
   ],
   "source": [
    "model_vgg = models.vgg16_bn(pretrained=True).to(DEVICE)"
   ]
  },
  {
   "cell_type": "code",
   "execution_count": 75,
   "id": "ec836ac6",
   "metadata": {},
   "outputs": [
    {
     "name": "stdout",
     "output_type": "stream",
     "text": [
      "VGG(\n",
      "  (features): Sequential(\n",
      "    (0): Conv2d(3, 64, kernel_size=(3, 3), stride=(1, 1), padding=(1, 1))\n",
      "    (1): BatchNorm2d(64, eps=1e-05, momentum=0.1, affine=True, track_running_stats=True)\n",
      "    (2): ReLU(inplace=True)\n",
      "    (3): Conv2d(64, 64, kernel_size=(3, 3), stride=(1, 1), padding=(1, 1))\n",
      "    (4): BatchNorm2d(64, eps=1e-05, momentum=0.1, affine=True, track_running_stats=True)\n",
      "    (5): ReLU(inplace=True)\n",
      "    (6): MaxPool2d(kernel_size=2, stride=2, padding=0, dilation=1, ceil_mode=False)\n",
      "    (7): Conv2d(64, 128, kernel_size=(3, 3), stride=(1, 1), padding=(1, 1))\n",
      "    (8): BatchNorm2d(128, eps=1e-05, momentum=0.1, affine=True, track_running_stats=True)\n",
      "    (9): ReLU(inplace=True)\n",
      "    (10): Conv2d(128, 128, kernel_size=(3, 3), stride=(1, 1), padding=(1, 1))\n",
      "    (11): BatchNorm2d(128, eps=1e-05, momentum=0.1, affine=True, track_running_stats=True)\n",
      "    (12): ReLU(inplace=True)\n",
      "    (13): MaxPool2d(kernel_size=2, stride=2, padding=0, dilation=1, ceil_mode=False)\n",
      "    (14): Conv2d(128, 256, kernel_size=(3, 3), stride=(1, 1), padding=(1, 1))\n",
      "    (15): BatchNorm2d(256, eps=1e-05, momentum=0.1, affine=True, track_running_stats=True)\n",
      "    (16): ReLU(inplace=True)\n",
      "    (17): Conv2d(256, 256, kernel_size=(3, 3), stride=(1, 1), padding=(1, 1))\n",
      "    (18): BatchNorm2d(256, eps=1e-05, momentum=0.1, affine=True, track_running_stats=True)\n",
      "    (19): ReLU(inplace=True)\n",
      "    (20): Conv2d(256, 256, kernel_size=(3, 3), stride=(1, 1), padding=(1, 1))\n",
      "    (21): BatchNorm2d(256, eps=1e-05, momentum=0.1, affine=True, track_running_stats=True)\n",
      "    (22): ReLU(inplace=True)\n",
      "    (23): MaxPool2d(kernel_size=2, stride=2, padding=0, dilation=1, ceil_mode=False)\n",
      "    (24): Conv2d(256, 512, kernel_size=(3, 3), stride=(1, 1), padding=(1, 1))\n",
      "    (25): BatchNorm2d(512, eps=1e-05, momentum=0.1, affine=True, track_running_stats=True)\n",
      "    (26): ReLU(inplace=True)\n",
      "    (27): Conv2d(512, 512, kernel_size=(3, 3), stride=(1, 1), padding=(1, 1))\n",
      "    (28): BatchNorm2d(512, eps=1e-05, momentum=0.1, affine=True, track_running_stats=True)\n",
      "    (29): ReLU(inplace=True)\n",
      "    (30): Conv2d(512, 512, kernel_size=(3, 3), stride=(1, 1), padding=(1, 1))\n",
      "    (31): BatchNorm2d(512, eps=1e-05, momentum=0.1, affine=True, track_running_stats=True)\n",
      "    (32): ReLU(inplace=True)\n",
      "    (33): MaxPool2d(kernel_size=2, stride=2, padding=0, dilation=1, ceil_mode=False)\n",
      "    (34): Conv2d(512, 512, kernel_size=(3, 3), stride=(1, 1), padding=(1, 1))\n",
      "    (35): BatchNorm2d(512, eps=1e-05, momentum=0.1, affine=True, track_running_stats=True)\n",
      "    (36): ReLU(inplace=True)\n",
      "    (37): Conv2d(512, 512, kernel_size=(3, 3), stride=(1, 1), padding=(1, 1))\n",
      "    (38): BatchNorm2d(512, eps=1e-05, momentum=0.1, affine=True, track_running_stats=True)\n",
      "    (39): ReLU(inplace=True)\n",
      "    (40): Conv2d(512, 512, kernel_size=(3, 3), stride=(1, 1), padding=(1, 1))\n",
      "    (41): BatchNorm2d(512, eps=1e-05, momentum=0.1, affine=True, track_running_stats=True)\n",
      "    (42): ReLU(inplace=True)\n",
      "    (43): MaxPool2d(kernel_size=2, stride=2, padding=0, dilation=1, ceil_mode=False)\n",
      "  )\n",
      "  (avgpool): AdaptiveAvgPool2d(output_size=(7, 7))\n",
      "  (classifier): Sequential(\n",
      "    (0): Linear(in_features=25088, out_features=4096, bias=True)\n",
      "    (1): ReLU(inplace=True)\n",
      "    (2): Dropout(p=0.5, inplace=False)\n",
      "    (3): Linear(in_features=4096, out_features=4096, bias=True)\n",
      "    (4): ReLU(inplace=True)\n",
      "    (5): Dropout(p=0.5, inplace=False)\n",
      "    (6): Linear(in_features=4096, out_features=1000, bias=True)\n",
      "  )\n",
      ")\n"
     ]
    }
   ],
   "source": [
    "print(model_vgg)"
   ]
  },
  {
   "cell_type": "markdown",
   "id": "70c6f446",
   "metadata": {},
   "source": [
    "### Data transformation"
   ]
  },
  {
   "cell_type": "code",
   "execution_count": 76,
   "id": "8dcd6dc9",
   "metadata": {},
   "outputs": [],
   "source": [
    "# resize/crop + ImageNet normalization for VGG16.\n",
    "imagenet_mean = [0.485, 0.456, 0.406]\n",
    "imagenet_std  = [0.229, 0.224, 0.225]"
   ]
  },
  {
   "cell_type": "code",
   "execution_count": 77,
   "id": "b65ae84d",
   "metadata": {},
   "outputs": [],
   "source": [
    "train_transform_vgg = transforms.Compose([\n",
    "    transforms.Resize(256),                # scale shorter side to 256\n",
    "    transforms.RandomCrop(224),            # random 224×224 crop\n",
    "    transforms.RandomHorizontalFlip(),     # small augmentation\n",
    "    transforms.RandomRotation(10),  \n",
    "    # Color jitter for brightness/contrast/saturation\n",
    "    transforms.ColorJitter(0.2, 0.2, 0.2, 0.1),\n",
    "    transforms.ToTensor(),\n",
    "    transforms.Normalize(imagenet_mean, imagenet_std)\n",
    "])\n",
    "\n",
    "val_transform_vgg = transforms.Compose([\n",
    "    transforms.Resize(256),\n",
    "    transforms.CenterCrop(224),            # deterministic validation crop\n",
    "    transforms.ToTensor(),\n",
    "    transforms.Normalize(imagenet_mean, imagenet_std)\n",
    "])\n"
   ]
  },
  {
   "cell_type": "code",
   "execution_count": 78,
   "id": "8091ad96",
   "metadata": {},
   "outputs": [],
   "source": [
    "raw_ds_vgg = datasets.SVHN(\n",
    "    root='./data', split='train', download=False,\n",
    "    transform=transforms.ToTensor(),\n",
    "    target_transform=svhn_label_transform\n",
    ")"
   ]
  },
  {
   "cell_type": "code",
   "execution_count": 79,
   "id": "ae16bac2",
   "metadata": {},
   "outputs": [],
   "source": [
    "train_vgg, val_vgg = random_split(raw_ds_vgg, [train_size, val_size])"
   ]
  },
  {
   "cell_type": "code",
   "execution_count": 80,
   "id": "9af8e02d",
   "metadata": {},
   "outputs": [],
   "source": [
    "train_vgg.dataset.transform = train_transform_vgg\n",
    "val_vgg.dataset.transform = val_transform_vgg\n",
    "\n",
    "\n",
    "test_vgg  = datasets.SVHN(root='./data', split='test',  download=False,\n",
    "                        transform=val_transform_vgg, target_transform=svhn_label_transform)"
   ]
  },
  {
   "cell_type": "code",
   "execution_count": 81,
   "id": "fbb49426",
   "metadata": {},
   "outputs": [],
   "source": [
    "batch_size = 128\n",
    "num_workers = 4   # use multiple CPU cores\n",
    "pin_memory  = True  # faster GPU transfers\n",
    "\n",
    "train_loader_vgg = DataLoader(train_vgg,\n",
    "                          batch_size=batch_size,\n",
    "                          shuffle=True,\n",
    "                          num_workers=num_workers,\n",
    "                          pin_memory=pin_memory)\n",
    "\n",
    "val_loader_vgg   = DataLoader(val_vgg,\n",
    "                          batch_size=batch_size, \n",
    "                          shuffle=False, \n",
    "                          num_workers=num_workers, \n",
    "                          pin_memory=pin_memory)\n",
    "\n",
    "test_loader_vgg = DataLoader(test_vgg,\n",
    "                        batch_size=batch_size,\n",
    "                        shuffle=False,\n",
    "                        num_workers=num_workers,\n",
    "                        pin_memory=pin_memory)"
   ]
  },
  {
   "cell_type": "markdown",
   "id": "05c868ba",
   "metadata": {},
   "source": [
    "### Custom classification head "
   ]
  },
  {
   "cell_type": "markdown",
   "id": "e2957d41",
   "metadata": {},
   "source": [
    "we need to freeze the convolutional backbone of the pretrained model VGG16 so when optimizing only update the head (unfroze parameters) not the already pretrained weights of VGG16"
   ]
  },
  {
   "cell_type": "code",
   "execution_count": 82,
   "id": "c0ce97c4",
   "metadata": {},
   "outputs": [],
   "source": [
    "for param in model_vgg.features.parameters():\n",
    "    param.requires_grad = False"
   ]
  },
  {
   "cell_type": "markdown",
   "id": "e02f0e26",
   "metadata": {},
   "source": [
    "#### Replacement of the classifier head"
   ]
  },
  {
   "cell_type": "code",
   "execution_count": 83,
   "id": "d46eb03e",
   "metadata": {},
   "outputs": [],
   "source": [
    "model_vgg.classifier = nn.Sequential(\n",
    "    nn.Linear(512 * 7 * 7, 256),           # reduce to 256 dims\n",
    "    nn.ReLU(inplace=True),\n",
    "    nn.Dropout(0.5),\n",
    "    nn.Linear(256, 10)                     # SVHN has 10 classes\n",
    ")"
   ]
  },
  {
   "cell_type": "code",
   "execution_count": 84,
   "id": "9d2fc4e8",
   "metadata": {},
   "outputs": [],
   "source": [
    "model_vgg = model_vgg.to(DEVICE)"
   ]
  },
  {
   "cell_type": "code",
   "execution_count": 85,
   "id": "ca897b25",
   "metadata": {},
   "outputs": [],
   "source": [
    "criterion_vgg = nn.CrossEntropyLoss(label_smoothing=0.1)\n",
    "optimizer_vgg = torch.optim.Adam(\n",
    "    filter(lambda p: p.requires_grad, model_vgg.parameters()),\n",
    "    lr=1e-3, \n",
    "    weight_decay=1e-4\n",
    ")"
   ]
  },
  {
   "cell_type": "markdown",
   "id": "dd640477",
   "metadata": {},
   "source": [
    "#### Training loop"
   ]
  },
  {
   "cell_type": "code",
   "execution_count": 86,
   "id": "d5159c2f",
   "metadata": {},
   "outputs": [
    {
     "name": "stdout",
     "output_type": "stream",
     "text": [
      "Epoch 01  Train: loss=1.3039, acc=0.6806  Val:   loss=1.0916, acc=0.7744  time=298.2s\n",
      "Epoch 02  Train: loss=1.0818, acc=0.7866  Val:   loss=1.0524, acc=0.7965  time=296.3s\n",
      "Epoch 03  Train: loss=1.0016, acc=0.8242  Val:   loss=1.0504, acc=0.7922  time=298.2s\n",
      "Epoch 04  Train: loss=0.9479, acc=0.8501  Val:   loss=1.0412, acc=0.7997  time=296.6s\n",
      "Epoch 05  Train: loss=0.9157, acc=0.8664  Val:   loss=1.0557, acc=0.7928  time=296.6s\n",
      "Epoch 06  Train: loss=0.8908, acc=0.8780  Val:   loss=1.0513, acc=0.7939  time=296.6s\n",
      "Epoch 07  Train: loss=0.8732, acc=0.8869  Val:   loss=1.0535, acc=0.7954  time=298.6s\n",
      "Epoch 08  Train: loss=0.8626, acc=0.8935  Val:   loss=1.0766, acc=0.7855  time=296.8s\n",
      "Epoch 09  Train: loss=0.8511, acc=0.8989  Val:   loss=1.0579, acc=0.7915  time=304.2s\n",
      "Epoch 10  Train: loss=0.8449, acc=0.9017  Val:   loss=1.0705, acc=0.7928  time=307.3s\n",
      "Epoch 11  Train: loss=0.8387, acc=0.9059  Val:   loss=1.0658, acc=0.7873  time=297.4s\n",
      "Epoch 12  Train: loss=0.8307, acc=0.9089  Val:   loss=1.0667, acc=0.7908  time=302.2s\n",
      "Epoch 13  Train: loss=0.8314, acc=0.9087  Val:   loss=1.0838, acc=0.7875  time=307.7s\n",
      "Epoch 14  Train: loss=0.8290, acc=0.9083  Val:   loss=1.0713, acc=0.7877  time=304.5s\n",
      "Epoch 15  Train: loss=0.8213, acc=0.9135  Val:   loss=1.0673, acc=0.7868  time=306.6s\n"
     ]
    }
   ],
   "source": [
    "num_epochs = 15\n",
    "best_val_acc = 0.0\n",
    "\n",
    "for epoch in range(1, num_epochs+1):\n",
    "    start = time.time()\n",
    "    train_loss, train_acc = train_one_epoch(model_vgg, train_loader_vgg, optimizer_vgg, criterion_vgg, DEVICE)\n",
    "    val_loss,   val_acc   = validate(model_vgg,   val_loader_vgg,   criterion_vgg, DEVICE)\n",
    "    elapsed = time.time() - start\n",
    "\n",
    "    if val_acc > best_val_acc:\n",
    "        best_val_acc = val_acc\n",
    "        torch.save(model_vgg.state_dict(), 'best_vgg16_svhn.pth')\n",
    "\n",
    "    print(f\"Epoch {epoch:02d}  \"\n",
    "          f\"Train: loss={train_loss:.4f}, acc={train_acc:.4f}  \"\n",
    "          f\"Val:   loss={val_loss:.4f}, acc={val_acc:.4f}  \"\n",
    "          f\"time={elapsed:.1f}s\")"
   ]
  },
  {
   "cell_type": "code",
   "execution_count": 87,
   "id": "7611a421",
   "metadata": {},
   "outputs": [
    {
     "name": "stdout",
     "output_type": "stream",
     "text": [
      "Final Test: loss=1.0630, acc=0.7848\n"
     ]
    }
   ],
   "source": [
    "model_vgg.load_state_dict(torch.load('best_vgg16_svhn.pth'))\n",
    "test_loss, test_acc = validate(model_vgg, test_loader_vgg, criterion_vgg, DEVICE)\n",
    "print(f\"Final Test: loss={test_loss:.4f}, acc={test_acc:.4f}\")"
   ]
  },
  {
   "cell_type": "markdown",
   "id": "5d4e859f",
   "metadata": {},
   "source": [
    "### Model ResNet18"
   ]
  },
  {
   "cell_type": "code",
   "execution_count": 88,
   "id": "20de507b",
   "metadata": {},
   "outputs": [],
   "source": [
    "raw_ds_resnet = datasets.SVHN(\n",
    "    root='./data', split='train', download=False,\n",
    "    transform=transforms.ToTensor(), target_transform=svhn_label_transform\n",
    ")\n",
    "train_resnet, val_resnet = random_split(raw_ds_resnet, [train_size, val_size])"
   ]
  },
  {
   "cell_type": "code",
   "execution_count": 89,
   "id": "19783b6d",
   "metadata": {},
   "outputs": [],
   "source": [
    "resnet_mean = [0.485, 0.456, 0.406]  # ImageNet stats\n",
    "resnet_std  = [0.229, 0.224, 0.225]"
   ]
  },
  {
   "cell_type": "code",
   "execution_count": 90,
   "id": "c1b1178f",
   "metadata": {},
   "outputs": [],
   "source": [
    "train_resnet.dataset.transform = transforms.Compose([\n",
    "    transforms.Resize(140),               # scale shorter side to 140\n",
    "    transforms.RandomCrop(128),           # random 128×128 patch\n",
    "    transforms.RandomHorizontalFlip(),    # small augmentation\n",
    "    transforms.RandomRotation(10),  \n",
    "    # Color jitter for brightness/contrast/saturation\n",
    "    transforms.ColorJitter(0.2, 0.2, 0.2, 0.1),\n",
    "    transforms.ToTensor(),\n",
    "    transforms.Normalize(resnet_mean, resnet_std)\n",
    "])\n",
    "\n",
    "val_resnet.dataset.transform = transforms.Compose([\n",
    "    transforms.Resize(140),\n",
    "    transforms.CenterCrop(128),           # deterministic evaluation crop\n",
    "    transforms.ToTensor(),\n",
    "    transforms.Normalize(resnet_mean, resnet_std)\n",
    "])"
   ]
  },
  {
   "cell_type": "code",
   "execution_count": 91,
   "id": "482a7838",
   "metadata": {},
   "outputs": [],
   "source": [
    "test_resnet = datasets.SVHN(root='./data', split='test', download=False,\n",
    "                       transform=val_resnet.dataset.transform, target_transform=svhn_label_transform)"
   ]
  },
  {
   "cell_type": "code",
   "execution_count": 92,
   "id": "e7c97f1d",
   "metadata": {},
   "outputs": [],
   "source": [
    "batch_size = 128\n",
    "num_workers = 4   # use multiple CPU cores\n",
    "pin_memory  = True  # faster GPU transfers\n",
    "train_loader_resnet = DataLoader(train_resnet, \n",
    "                          batch_size=batch_size, \n",
    "                          shuffle=True,  \n",
    "                          num_workers=num_workers, \n",
    "                          pin_memory=pin_memory)\n",
    "val_loader_resnet = DataLoader(val_resnet,   \n",
    "                          batch_size=batch_size, \n",
    "                          shuffle=False, \n",
    "                          num_workers=num_workers, \n",
    "                          pin_memory=pin_memory)\n",
    "test_loader_resnet = DataLoader(test_resnet,  \n",
    "                          batch_size=batch_size, \n",
    "                          shuffle=False, \n",
    "                          num_workers=num_workers, \n",
    "                          pin_memory=pin_memory)\n"
   ]
  },
  {
   "cell_type": "code",
   "execution_count": 93,
   "id": "1db9244e",
   "metadata": {},
   "outputs": [
    {
     "name": "stderr",
     "output_type": "stream",
     "text": [
      "/home/pipe/venv/deepLearningvenv/lib/python3.12/site-packages/torchvision/models/_utils.py:223: UserWarning: Arguments other than a weight enum or `None` for 'weights' are deprecated since 0.13 and may be removed in the future. The current behavior is equivalent to passing `weights=ResNet18_Weights.IMAGENET1K_V1`. You can also use `weights=ResNet18_Weights.DEFAULT` to get the most up-to-date weights.\n",
      "  warnings.warn(msg)\n"
     ]
    }
   ],
   "source": [
    "model_resnet = models.resnet18(pretrained=True)"
   ]
  },
  {
   "cell_type": "code",
   "execution_count": 94,
   "id": "4b551853",
   "metadata": {},
   "outputs": [
    {
     "name": "stdout",
     "output_type": "stream",
     "text": [
      "ResNet(\n",
      "  (conv1): Conv2d(3, 64, kernel_size=(7, 7), stride=(2, 2), padding=(3, 3), bias=False)\n",
      "  (bn1): BatchNorm2d(64, eps=1e-05, momentum=0.1, affine=True, track_running_stats=True)\n",
      "  (relu): ReLU(inplace=True)\n",
      "  (maxpool): MaxPool2d(kernel_size=3, stride=2, padding=1, dilation=1, ceil_mode=False)\n",
      "  (layer1): Sequential(\n",
      "    (0): BasicBlock(\n",
      "      (conv1): Conv2d(64, 64, kernel_size=(3, 3), stride=(1, 1), padding=(1, 1), bias=False)\n",
      "      (bn1): BatchNorm2d(64, eps=1e-05, momentum=0.1, affine=True, track_running_stats=True)\n",
      "      (relu): ReLU(inplace=True)\n",
      "      (conv2): Conv2d(64, 64, kernel_size=(3, 3), stride=(1, 1), padding=(1, 1), bias=False)\n",
      "      (bn2): BatchNorm2d(64, eps=1e-05, momentum=0.1, affine=True, track_running_stats=True)\n",
      "    )\n",
      "    (1): BasicBlock(\n",
      "      (conv1): Conv2d(64, 64, kernel_size=(3, 3), stride=(1, 1), padding=(1, 1), bias=False)\n",
      "      (bn1): BatchNorm2d(64, eps=1e-05, momentum=0.1, affine=True, track_running_stats=True)\n",
      "      (relu): ReLU(inplace=True)\n",
      "      (conv2): Conv2d(64, 64, kernel_size=(3, 3), stride=(1, 1), padding=(1, 1), bias=False)\n",
      "      (bn2): BatchNorm2d(64, eps=1e-05, momentum=0.1, affine=True, track_running_stats=True)\n",
      "    )\n",
      "  )\n",
      "  (layer2): Sequential(\n",
      "    (0): BasicBlock(\n",
      "      (conv1): Conv2d(64, 128, kernel_size=(3, 3), stride=(2, 2), padding=(1, 1), bias=False)\n",
      "      (bn1): BatchNorm2d(128, eps=1e-05, momentum=0.1, affine=True, track_running_stats=True)\n",
      "      (relu): ReLU(inplace=True)\n",
      "      (conv2): Conv2d(128, 128, kernel_size=(3, 3), stride=(1, 1), padding=(1, 1), bias=False)\n",
      "      (bn2): BatchNorm2d(128, eps=1e-05, momentum=0.1, affine=True, track_running_stats=True)\n",
      "      (downsample): Sequential(\n",
      "        (0): Conv2d(64, 128, kernel_size=(1, 1), stride=(2, 2), bias=False)\n",
      "        (1): BatchNorm2d(128, eps=1e-05, momentum=0.1, affine=True, track_running_stats=True)\n",
      "      )\n",
      "    )\n",
      "    (1): BasicBlock(\n",
      "      (conv1): Conv2d(128, 128, kernel_size=(3, 3), stride=(1, 1), padding=(1, 1), bias=False)\n",
      "      (bn1): BatchNorm2d(128, eps=1e-05, momentum=0.1, affine=True, track_running_stats=True)\n",
      "      (relu): ReLU(inplace=True)\n",
      "      (conv2): Conv2d(128, 128, kernel_size=(3, 3), stride=(1, 1), padding=(1, 1), bias=False)\n",
      "      (bn2): BatchNorm2d(128, eps=1e-05, momentum=0.1, affine=True, track_running_stats=True)\n",
      "    )\n",
      "  )\n",
      "  (layer3): Sequential(\n",
      "    (0): BasicBlock(\n",
      "      (conv1): Conv2d(128, 256, kernel_size=(3, 3), stride=(2, 2), padding=(1, 1), bias=False)\n",
      "      (bn1): BatchNorm2d(256, eps=1e-05, momentum=0.1, affine=True, track_running_stats=True)\n",
      "      (relu): ReLU(inplace=True)\n",
      "      (conv2): Conv2d(256, 256, kernel_size=(3, 3), stride=(1, 1), padding=(1, 1), bias=False)\n",
      "      (bn2): BatchNorm2d(256, eps=1e-05, momentum=0.1, affine=True, track_running_stats=True)\n",
      "      (downsample): Sequential(\n",
      "        (0): Conv2d(128, 256, kernel_size=(1, 1), stride=(2, 2), bias=False)\n",
      "        (1): BatchNorm2d(256, eps=1e-05, momentum=0.1, affine=True, track_running_stats=True)\n",
      "      )\n",
      "    )\n",
      "    (1): BasicBlock(\n",
      "      (conv1): Conv2d(256, 256, kernel_size=(3, 3), stride=(1, 1), padding=(1, 1), bias=False)\n",
      "      (bn1): BatchNorm2d(256, eps=1e-05, momentum=0.1, affine=True, track_running_stats=True)\n",
      "      (relu): ReLU(inplace=True)\n",
      "      (conv2): Conv2d(256, 256, kernel_size=(3, 3), stride=(1, 1), padding=(1, 1), bias=False)\n",
      "      (bn2): BatchNorm2d(256, eps=1e-05, momentum=0.1, affine=True, track_running_stats=True)\n",
      "    )\n",
      "  )\n",
      "  (layer4): Sequential(\n",
      "    (0): BasicBlock(\n",
      "      (conv1): Conv2d(256, 512, kernel_size=(3, 3), stride=(2, 2), padding=(1, 1), bias=False)\n",
      "      (bn1): BatchNorm2d(512, eps=1e-05, momentum=0.1, affine=True, track_running_stats=True)\n",
      "      (relu): ReLU(inplace=True)\n",
      "      (conv2): Conv2d(512, 512, kernel_size=(3, 3), stride=(1, 1), padding=(1, 1), bias=False)\n",
      "      (bn2): BatchNorm2d(512, eps=1e-05, momentum=0.1, affine=True, track_running_stats=True)\n",
      "      (downsample): Sequential(\n",
      "        (0): Conv2d(256, 512, kernel_size=(1, 1), stride=(2, 2), bias=False)\n",
      "        (1): BatchNorm2d(512, eps=1e-05, momentum=0.1, affine=True, track_running_stats=True)\n",
      "      )\n",
      "    )\n",
      "    (1): BasicBlock(\n",
      "      (conv1): Conv2d(512, 512, kernel_size=(3, 3), stride=(1, 1), padding=(1, 1), bias=False)\n",
      "      (bn1): BatchNorm2d(512, eps=1e-05, momentum=0.1, affine=True, track_running_stats=True)\n",
      "      (relu): ReLU(inplace=True)\n",
      "      (conv2): Conv2d(512, 512, kernel_size=(3, 3), stride=(1, 1), padding=(1, 1), bias=False)\n",
      "      (bn2): BatchNorm2d(512, eps=1e-05, momentum=0.1, affine=True, track_running_stats=True)\n",
      "    )\n",
      "  )\n",
      "  (avgpool): AdaptiveAvgPool2d(output_size=(1, 1))\n",
      "  (fc): Linear(in_features=512, out_features=1000, bias=True)\n",
      ")\n"
     ]
    }
   ],
   "source": [
    "print(model_resnet)"
   ]
  },
  {
   "cell_type": "markdown",
   "id": "4db33a09",
   "metadata": {},
   "source": [
    "also here we freeze the early layers to only train the head"
   ]
  },
  {
   "cell_type": "code",
   "execution_count": 95,
   "id": "6d04a498",
   "metadata": {},
   "outputs": [],
   "source": [
    "for name, param in model_resnet.named_parameters():\n",
    "    if \"layer3\" not in name and \"layer4\" not in name and \"fc\" not in name:\n",
    "        param.requires_grad = False"
   ]
  },
  {
   "cell_type": "code",
   "execution_count": 96,
   "id": "c8b0fead",
   "metadata": {},
   "outputs": [],
   "source": [
    "# Replace the fc: original maps 512 → 1000; we need 512 → 10\n",
    "model_resnet.fc = nn.Sequential(\n",
    "    nn.Linear(512, 256),\n",
    "    nn.ReLU(inplace=True),\n",
    "    nn.Dropout(0.5),\n",
    "    nn.Linear(256, 10)\n",
    ")"
   ]
  },
  {
   "cell_type": "code",
   "execution_count": 97,
   "id": "7c2580e9",
   "metadata": {},
   "outputs": [],
   "source": [
    "model_resnet = model_resnet.to(DEVICE)"
   ]
  },
  {
   "cell_type": "code",
   "execution_count": 98,
   "id": "d2011d19",
   "metadata": {},
   "outputs": [],
   "source": [
    "criterion_resnet = nn.CrossEntropyLoss()\n",
    "optimizer_resnet = optim.Adam(\n",
    "    filter(lambda p: p.requires_grad, model_resnet.parameters()),\n",
    "    lr=1e-4,\n",
    "    weight_decay=1e-4\n",
    ")"
   ]
  },
  {
   "cell_type": "code",
   "execution_count": 99,
   "id": "2e46e694",
   "metadata": {},
   "outputs": [
    {
     "name": "stdout",
     "output_type": "stream",
     "text": [
      "Epoch 01  Train: loss=0.6686, acc=0.7864  Val:   loss=0.3135, acc=0.9044  time=25.4s\n",
      "Epoch 02  Train: loss=0.2415, acc=0.9298  Val:   loss=0.2753, acc=0.9178  time=25.1s\n",
      "Epoch 03  Train: loss=0.1397, acc=0.9602  Val:   loss=0.2950, acc=0.9196  time=25.4s\n",
      "Epoch 04  Train: loss=0.0807, acc=0.9769  Val:   loss=0.3161, acc=0.9202  time=26.6s\n",
      "Epoch 05  Train: loss=0.0491, acc=0.9852  Val:   loss=0.3323, acc=0.9240  time=25.5s\n",
      "Epoch 06  Train: loss=0.0371, acc=0.9880  Val:   loss=0.3641, acc=0.9194  time=26.3s\n",
      "Epoch 07  Train: loss=0.0319, acc=0.9897  Val:   loss=0.3874, acc=0.9192  time=25.3s\n",
      "Epoch 08  Train: loss=0.0259, acc=0.9922  Val:   loss=0.3988, acc=0.9196  time=26.0s\n",
      "Epoch 09  Train: loss=0.0227, acc=0.9927  Val:   loss=0.4004, acc=0.9248  time=26.5s\n",
      "Epoch 10  Train: loss=0.0187, acc=0.9941  Val:   loss=0.4092, acc=0.9221  time=26.6s\n",
      "Epoch 11  Train: loss=0.0205, acc=0.9940  Val:   loss=0.3797, acc=0.9246  time=27.4s\n",
      "Epoch 12  Train: loss=0.0171, acc=0.9944  Val:   loss=0.3905, acc=0.9259  time=25.2s\n",
      "Epoch 13  Train: loss=0.0164, acc=0.9951  Val:   loss=0.4128, acc=0.9197  time=24.8s\n",
      "Epoch 14  Train: loss=0.0185, acc=0.9945  Val:   loss=0.3780, acc=0.9253  time=24.7s\n",
      "Epoch 15  Train: loss=0.0148, acc=0.9953  Val:   loss=0.4149, acc=0.9225  time=24.7s\n"
     ]
    }
   ],
   "source": [
    "best_val_acc = 0.0\n",
    "num_epochs   = 15\n",
    "\n",
    "for epoch in range(1, num_epochs+1):\n",
    "    start = time.time()\n",
    "    train_loss, train_acc = train_one_epoch(model_resnet, train_loader_resnet, optimizer_resnet, criterion_resnet, DEVICE)\n",
    "    val_loss,   val_acc   = validate(model_resnet, val_loader_resnet, criterion_resnet, DEVICE)\n",
    "    elapsed = time.time() - start\n",
    "\n",
    "    if val_acc > best_val_acc:\n",
    "        best_val_acc = val_acc\n",
    "        torch.save(model_resnet.state_dict(), 'best_resnet18_svhn.pth')\n",
    "\n",
    "    print(f\"Epoch {epoch:02d}  \"\n",
    "          f\"Train: loss={train_loss:.4f}, acc={train_acc:.4f}  \"\n",
    "          f\"Val:   loss={val_loss:.4f}, acc={val_acc:.4f}  \"\n",
    "          f\"time={elapsed:.1f}s\")"
   ]
  },
  {
   "cell_type": "code",
   "execution_count": 100,
   "id": "50fa201b",
   "metadata": {},
   "outputs": [
    {
     "name": "stdout",
     "output_type": "stream",
     "text": [
      "Test: loss=0.3669, acc=0.9263\n"
     ]
    }
   ],
   "source": [
    "model_resnet.load_state_dict(torch.load('best_resnet18_svhn.pth'))\n",
    "test_loss, test_acc = validate(model_resnet, test_loader_resnet, criterion_resnet, DEVICE)\n",
    "print(f\"Test: loss={test_loss:.4f}, acc={test_acc:.4f}\")"
   ]
  }
 ],
 "metadata": {
  "kernelspec": {
   "display_name": "deepLearningvenv",
   "language": "python",
   "name": "python3"
  },
  "language_info": {
   "codemirror_mode": {
    "name": "ipython",
    "version": 3
   },
   "file_extension": ".py",
   "mimetype": "text/x-python",
   "name": "python",
   "nbconvert_exporter": "python",
   "pygments_lexer": "ipython3",
   "version": "3.12.3"
  }
 },
 "nbformat": 4,
 "nbformat_minor": 5
}
